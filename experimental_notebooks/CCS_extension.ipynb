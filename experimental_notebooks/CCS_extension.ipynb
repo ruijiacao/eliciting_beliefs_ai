{
 "cells": [
  {
   "cell_type": "code",
   "execution_count": 1,
   "metadata": {},
   "outputs": [
    {
     "name": "stderr",
     "output_type": "stream",
     "text": [
      "/Users/ruijiacao/Documents/Ruijia/Research/eliciting_beliefs_llm/eliciting_beliefs_ai/.conda/lib/python3.12/site-packages/tqdm/auto.py:21: TqdmWarning: IProgress not found. Please update jupyter and ipywidgets. See https://ipywidgets.readthedocs.io/en/stable/user_install.html\n",
      "  from .autonotebook import tqdm as notebook_tqdm\n"
     ]
    }
   ],
   "source": [
    "%load_ext autoreload\n",
    "%autoreload 2\n",
    "import utils\n",
    "import torch\n",
    "import numpy as np\n",
    "import all_classes\n",
    "from tqdm import tqdm\n",
    "from datasets import load_dataset\n",
    "from transformers import AutoTokenizer, AutoModelForSeq2SeqLM, AutoModelForMaskedLM, AutoModelForCausalLM, AutoModel\n",
    "from sklearn.linear_model import LogisticRegression"
   ]
  },
  {
   "cell_type": "code",
   "execution_count": 2,
   "metadata": {},
   "outputs": [],
   "source": [
    "\n",
    "#load datasets\n",
    "dataset_name = \"imdb\"\n",
    "# dataset_name = \"amazon_polarity\"\n",
    "data = load_dataset(\"imdb\")[\"test\"]\n",
    "# data = load_dataset(\"amazon_polarity\")[\"test\"]"
   ]
  },
  {
   "cell_type": "code",
   "execution_count": 3,
   "metadata": {},
   "outputs": [],
   "source": [
    "# Here are a few different model options you can play around with:\n",
    "model_name = \"llama3.2\"\n",
    "# model_name = \"llama3.3\"\n",
    "\n",
    "# the number of hidden dimensions of the model\n",
    "hidden_size = 2048\n",
    "num_layers = 16\n",
    "\n",
    "cache_dir = None\n",
    "\n",
    "if model_name == \"llama3.2\":\n",
    "    model_type = \"decoder\"\n",
    "    tokenizer = AutoTokenizer.from_pretrained(\"meta-llama/Llama-3.2-1B-Instruct\", cache_dir=cache_dir, token=True)\n",
    "    model = AutoModel.from_pretrained(\"meta-llama/Llama-3.2-1B-Instruct\", cache_dir=cache_dir, token=True)\n",
    "    hidden_size = model.config.hidden_size\n",
    "    num_layers = model.config.num_hidden_layers\n",
    "else:\n",
    "    print(\"Not implemented!\")"
   ]
  },
  {
   "cell_type": "code",
   "execution_count": 18,
   "metadata": {},
   "outputs": [
    {
     "name": "stderr",
     "output_type": "stream",
     "text": [
      "100%|██████████| 30/30 [00:32<00:00,  1.07s/it]\n"
     ]
    }
   ],
   "source": [
    "neg_hs, pos_hs, y = utils.get_hidden_states_many_examples(model, tokenizer, data, dataset_name, model_type, n = 30)"
   ]
  },
  {
   "cell_type": "code",
   "execution_count": 19,
   "metadata": {},
   "outputs": [
    {
     "name": "stdout",
     "output_type": "stream",
     "text": [
      "[0 1 0 1 0 1 0 0 1 0 1 0 0 0 0 0 1 1 1 0 1 0 0 1 0 0 0 0 0 1]\n",
      "(30, 2048)\n",
      "(30, 2048)\n"
     ]
    }
   ],
   "source": [
    "print(y)\n",
    "print(np.shape(neg_hs))\n",
    "print(np.shape(pos_hs))"
   ]
  },
  {
   "cell_type": "markdown",
   "metadata": {},
   "source": [
    "\n",
    "## Let's verify that the model's representations are good\n",
    "\n",
    "Before trying CCS, let's make sure there exists a direction that classifies examples as true vs false with high accuracy; if logistic regression accuracy is bad, there's no hope of CCS doing well."
   ]
  },
  {
   "cell_type": "code",
   "execution_count": 20,
   "metadata": {},
   "outputs": [
    {
     "name": "stdout",
     "output_type": "stream",
     "text": [
      "Logistic regression accuracy: 0.9333333333333333\n",
      "CCS accuracy: 0.6666666666666666\n"
     ]
    }
   ],
   "source": [
    "\n",
    "# let's create a simple 50/50 train split (the data is already randomized)\n",
    "n = len(y)\n",
    "neg_hs_train, neg_hs_test = neg_hs[:n//2], neg_hs[n//2:]\n",
    "pos_hs_train, pos_hs_test = pos_hs[:n//2], pos_hs[n//2:]\n",
    "y_train, y_test = y[:n//2], y[n//2:]\n",
    "\n",
    "# for simplicity we can just take the difference between positive and negative hidden states\n",
    "# (concatenating also works fine)\n",
    "x_train = neg_hs_train - pos_hs_train\n",
    "x_test = neg_hs_test - pos_hs_test\n",
    "\n",
    "lr = LogisticRegression(class_weight=\"balanced\")\n",
    "lr.fit(x_train, y_train)\n",
    "print(\"Logistic regression accuracy: {}\".format(lr.score(x_test, y_test)))\n",
    "\n",
    "ccs = all_classes.CE(neg_hs_train, pos_hs_train)\n",
    "ccs.repeated_train()\n",
    "\n",
    "# Evaluate\n",
    "ccs_acc = ccs.get_acc(neg_hs_test, pos_hs_test, y_test)\n",
    "print(\"CCS accuracy: {}\".format(ccs_acc))\n",
    "# print(ccs.get_credence(neg_hs_test, pos_hs_test))"
   ]
  },
  {
   "cell_type": "markdown",
   "metadata": {},
   "source": [
    "## Aggregating probes from all layers "
   ]
  },
  {
   "cell_type": "code",
   "execution_count": 21,
   "metadata": {},
   "outputs": [],
   "source": [
    "# aggregate a list of credences into one estimate\n",
    "def aggregate(credences):\n",
    "    result = np.sqrt(np.prod(credences * (1 / (1 - credences))))\n",
    "    return 1 / (1 + result)"
   ]
  },
  {
   "cell_type": "markdown",
   "metadata": {},
   "source": [
    "Get the hidden state representations from the specified layers"
   ]
  },
  {
   "cell_type": "code",
   "execution_count": 10,
   "metadata": {},
   "outputs": [
    {
     "name": "stderr",
     "output_type": "stream",
     "text": [
      "100%|██████████| 30/30 [02:31<00:00,  5.05s/it]\n"
     ]
    }
   ],
   "source": [
    "num_example = 30\n",
    "layer_idx = [1, 3, 5, 7, -1]\n",
    "all_neg_hs, all_pos_hs, all_y = utils.get_hidden_states_multiple_layers(model, tokenizer, data, dataset_name, model_type, layer_idx, num_samples = num_example)"
   ]
  },
  {
   "cell_type": "markdown",
   "metadata": {},
   "source": [
    "Get a list of probes for each specified layer"
   ]
  },
  {
   "cell_type": "code",
   "execution_count": 38,
   "metadata": {},
   "outputs": [
    {
     "name": "stdout",
     "output_type": "stream",
     "text": [
      "(30, 2048)\n"
     ]
    }
   ],
   "source": [
    "# probes = []\n",
    "probabilities = []\n",
    "pos_hs = [cur_pos_hs[0] for cur_pos_hs in all_pos_hs]\n",
    "pos_hs = np.stack(pos_hs)\n",
    "print(pos_hs.shape)\n",
    "for i in range(len(layer_idx)):\n",
    "    pos_hs = [cur_pos_hs[i] for cur_pos_hs in all_pos_hs]\n",
    "    neg_hs = [cur_neg_hs[i] for cur_neg_hs in all_neg_hs]\n",
    "    pos_hs = np.stack(pos_hs)\n",
    "    neg_hs = np.stack(neg_hs)\n",
    "    neg_hs_train, neg_hs_test = neg_hs[ : num_example // 2], neg_hs[num_example // 2 : ]\n",
    "    pos_hs_train, pos_hs_test = pos_hs[ : num_example // 2], pos_hs[num_example // 2 : ]\n",
    "    y_train, y_test = all_y[ : num_example // 2], all_y[ num_example // 2 : ]\n",
    "    credence = all_classes.CE(neg_hs_train, pos_hs_train)\n",
    "    credence.repeated_train()\n",
    "    # probes.append(credence.best_probe)\n",
    "    probabilities.append(credence.get_credence(neg_hs_test, pos_hs_test).detach().cpu().numpy())\n"
   ]
  },
  {
   "cell_type": "markdown",
   "metadata": {},
   "source": [
    "Test accuracy by aggregating all the probes"
   ]
  },
  {
   "cell_type": "code",
   "execution_count": 66,
   "metadata": {},
   "outputs": [
    {
     "name": "stdout",
     "output_type": "stream",
     "text": [
      "0.8\n"
     ]
    }
   ],
   "source": [
    "probabilities = np.array(probabilities)\n",
    "probabilities = np.reshape(probabilities, (len(layer_idx), num_example // 2))\n",
    "probs_agg = [aggregate(probabilities[:, j]) for j in range(num_example // 2)]\n",
    "probs_agg = np.array(probs_agg)\n",
    "predictions = (probs_agg < 0.5).astype(int)\n",
    "acc = (predictions == y_test).mean()\n",
    "acc = max(acc, 1 - acc)\n",
    "print(\"CCS accuracy by aggregating truth vectors: {}\".format(acc))"
   ]
  },
  {
   "cell_type": "markdown",
   "metadata": {},
   "source": [
    "Logistic Regression"
   ]
  }
 ],
 "metadata": {
  "kernelspec": {
   "display_name": "Python 3",
   "language": "python",
   "name": "python3"
  },
  "language_info": {
   "codemirror_mode": {
    "name": "ipython",
    "version": 3
   },
   "file_extension": ".py",
   "mimetype": "text/x-python",
   "name": "python",
   "nbconvert_exporter": "python",
   "pygments_lexer": "ipython3",
   "version": "3.12.8"
  }
 },
 "nbformat": 4,
 "nbformat_minor": 2
}
