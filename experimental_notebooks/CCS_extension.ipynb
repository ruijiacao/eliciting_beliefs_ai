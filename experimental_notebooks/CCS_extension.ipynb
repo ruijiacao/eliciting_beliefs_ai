{
 "cells": [
  {
   "cell_type": "code",
   "execution_count": 5,
   "metadata": {},
   "outputs": [
    {
     "name": "stdout",
     "output_type": "stream",
     "text": [
      "The autoreload extension is already loaded. To reload it, use:\n",
      "  %reload_ext autoreload\n"
     ]
    }
   ],
   "source": [
    "%load_ext autoreload\n",
    "%autoreload 2\n",
    "import utils\n",
    "import torch\n",
    "import numpy as np\n",
    "import all_classes\n",
    "from tqdm import tqdm\n",
    "from datasets import load_dataset\n",
    "from transformers import AutoTokenizer, AutoModelForSeq2SeqLM, AutoModelForMaskedLM, AutoModelForCausalLM, AutoModel\n",
    "from sklearn.linear_model import LogisticRegression\n",
    "import itertools"
   ]
  },
  {
   "cell_type": "markdown",
   "metadata": {},
   "source": [
    "##### Load Dataset"
   ]
  },
  {
   "cell_type": "code",
   "execution_count": 6,
   "metadata": {},
   "outputs": [],
   "source": [
    "\n",
    "#load datasets\n",
    "dataset_name = \"imdb\"\n",
    "# dataset_name = \"amazon_polarity\"\n",
    "data = load_dataset(\"imdb\")[\"test\"]\n",
    "data = np.array(data)\n",
    "# data = load_dataset(\"amazon_polarity\")[\"test\"]"
   ]
  },
  {
   "cell_type": "markdown",
   "metadata": {},
   "source": [
    "##### Load Model"
   ]
  },
  {
   "cell_type": "code",
   "execution_count": 3,
   "metadata": {},
   "outputs": [],
   "source": [
    "# Here are a few different model options you can play around with:\n",
    "model_name = \"llama3.2\"\n",
    "# model_name = \"llama3.3\"\n",
    "\n",
    "# the number of hidden dimensions of the model\n",
    "hidden_size = 2048\n",
    "num_layers = 16\n",
    "\n",
    "cache_dir = None\n",
    "\n",
    "if model_name == \"llama3.2\":\n",
    "    model_type = \"decoder\"\n",
    "    tokenizer = AutoTokenizer.from_pretrained(\"meta-llama/Llama-3.2-1B-Instruct\", cache_dir=cache_dir, token=True)\n",
    "    model = AutoModel.from_pretrained(\"meta-llama/Llama-3.2-1B-Instruct\", cache_dir=cache_dir, token=True)\n",
    "    hidden_size = model.config.hidden_size\n",
    "    num_layers = model.config.num_hidden_layers\n",
    "else:\n",
    "    print(\"Not implemented!\")"
   ]
  },
  {
   "cell_type": "code",
   "execution_count": null,
   "metadata": {},
   "outputs": [
    {
     "name": "stdout",
     "output_type": "stream",
     "text": [
      "2\n"
     ]
    }
   ],
   "source": [
    "# sample = np.random.choice(data, 2) \n",
    "# print(sample.shape[0])\n",
    "# print(sample[0])\n",
    "# print(sample[0])\n",
    "# print(sample[1])"
   ]
  },
  {
   "cell_type": "code",
   "execution_count": 45,
   "metadata": {},
   "outputs": [],
   "source": [
    "# test = \"Is the sky blue? Answer: True\"\n",
    "# output = utils.get_decoder_hidden_states(model, tokenizer, test, layer = -1, token_pos = -1)\n",
    "# output_2 = utils.get_decoder_hidden_states(model, tokenizer, test, layer = -1, token_pos = -2)\n",
    "# print(output)\n",
    "# print(output_2)\n"
   ]
  },
  {
   "cell_type": "code",
   "execution_count": null,
   "metadata": {},
   "outputs": [
    {
     "name": "stdout",
     "output_type": "stream",
     "text": [
      "Logistic regression accuracy: 0.26666666666666666\n",
      "CCS accuracy: 0.6\n"
     ]
    }
   ],
   "source": [
    "\n",
    "# let's create a simple 50/50 train split (the data is already randomized)\n",
    "# n = len(y)\n",
    "# neg_hs_train, neg_hs_test = neg_hs[:n//2], neg_hs[n//2:]\n",
    "# pos_hs_train, pos_hs_test = pos_hs[:n//2], pos_hs[n//2:]\n",
    "# y_train, y_test = y[:n//2], y[n//2:]\n",
    "\n",
    "# # for simplicity we can just take the difference between positive and negative hidden states\n",
    "# # (concatenating also works fine)\n",
    "# x_train = neg_hs_train - pos_hs_train\n",
    "# x_test = neg_hs_test - pos_hs_test\n",
    "\n",
    "# lr = LogisticRegression(class_weight=\"balanced\")\n",
    "# lr.fit(x_train, y_train)\n",
    "# print(\"Logistic regression accuracy: {}\".format(lr.score(x_test, y_test)))\n",
    "\n",
    "# ccs = all_classes.CE(neg_hs_train, pos_hs_train)\n",
    "# ccs.repeated_train()\n",
    "\n",
    "# # Evaluate\n",
    "# ccs_acc = ccs.get_acc(neg_hs_test, pos_hs_test, y_test)\n",
    "# print(\"CCS accuracy: {}\".format(ccs_acc))\n",
    "# print(ccs.get_credence(neg_hs_test, pos_hs_test))"
   ]
  },
  {
   "cell_type": "markdown",
   "metadata": {},
   "source": [
    "## Aggregating probes from all layers "
   ]
  },
  {
   "cell_type": "code",
   "execution_count": 12,
   "metadata": {},
   "outputs": [],
   "source": [
    "# aggregate a list of credences into one estimate using geometric mean\n",
    "# def aggregate_gmean(credences):\n",
    "#     k = np.shape(credences)[0]\n",
    "#     result = np.power(np.prod(credences * (1 / (1 - credences))), 1 / k)\n",
    "#     return 1 / (1 + result)"
   ]
  },
  {
   "cell_type": "markdown",
   "metadata": {},
   "source": [
    "Get the hidden state representations from the specified layers"
   ]
  },
  {
   "cell_type": "code",
   "execution_count": 13,
   "metadata": {},
   "outputs": [],
   "source": [
    "# num_example = 2\n",
    "# data_sampled = np.random.choice(data, num_example)\n",
    "# layer_idx = [1, 3, 5, 7, -1] # training 5 probes\n",
    "# all_neg_hs, all_pos_hs, all_y = utils.get_hidden_states_aggregate(model, tokenizer, data, dataset_name, model_type, layer_idx, num_samples = num_example)"
   ]
  },
  {
   "cell_type": "markdown",
   "metadata": {},
   "source": [
    "Get a list of probes for each specified layer"
   ]
  },
  {
   "cell_type": "code",
   "execution_count": null,
   "metadata": {},
   "outputs": [
    {
     "name": "stdout",
     "output_type": "stream",
     "text": [
      "(30, 2048)\n"
     ]
    }
   ],
   "source": [
    "# probes = []\n",
    "# probabilities = []\n",
    "# pos_hs = [cur_pos_hs[0] for cur_pos_hs in all_pos_hs]\n",
    "# pos_hs = np.stack(pos_hs)\n",
    "# print(pos_hs.shape)\n",
    "# for i in range(len(layer_idx)):\n",
    "#     pos_hs = [cur_pos_hs[i] for cur_pos_hs in all_pos_hs]\n",
    "#     neg_hs = [cur_neg_hs[i] for cur_neg_hs in all_neg_hs]\n",
    "#     pos_hs = np.stack(pos_hs)\n",
    "#     neg_hs = np.stack(neg_hs)\n",
    "#     neg_hs_train, neg_hs_test = neg_hs[ : num_example // 2], neg_hs[num_example // 2 : ]\n",
    "#     pos_hs_train, pos_hs_test = pos_hs[ : num_example // 2], pos_hs[num_example // 2 : ]\n",
    "#     y_train, y_test = all_y[ : num_example // 2], all_y[ num_example // 2 : ]\n",
    "#     credence = all_classes.CE(neg_hs_train, pos_hs_train)\n",
    "#     credence.repeated_train()\n",
    "#     # probes.append(credence.best_probe)\n",
    "#     probabilities.append(credence.get_credence(neg_hs_test, pos_hs_test).detach().cpu().numpy())\n"
   ]
  },
  {
   "cell_type": "markdown",
   "metadata": {},
   "source": [
    "Test accuracy by aggregating all the probes"
   ]
  },
  {
   "cell_type": "code",
   "execution_count": 14,
   "metadata": {},
   "outputs": [],
   "source": [
    "# probabilities = np.array(probabilities)\n",
    "# probabilities = np.reshape(probabilities, (len(layer_idx), num_example // 2))\n",
    "# probs_agg = [aggregate_gmean(probabilities[:, j]) for j in range(num_example // 2)]\n",
    "# probs_agg = np.array(probs_agg)\n",
    "# predictions = (probs_agg < 0.5).astype(int)\n",
    "# print(predictions)\n",
    "# print(y_test)"
   ]
  },
  {
   "cell_type": "code",
   "execution_count": 15,
   "metadata": {},
   "outputs": [],
   "source": [
    "# acc = (predictions == y_test).mean()\n",
    "# acc = max(acc, 1 - acc)\n",
    "# print(\"CCS accuracy by aggregating truth vectors: {}\".format(acc))"
   ]
  },
  {
   "cell_type": "markdown",
   "metadata": {},
   "source": [
    "### Aggregating Multiple probes"
   ]
  },
  {
   "cell_type": "markdown",
   "metadata": {},
   "source": [
    "#### Some helper functions"
   ]
  },
  {
   "cell_type": "code",
   "execution_count": null,
   "metadata": {},
   "outputs": [],
   "source": [
    "def normalize(x, var_normalize = False):\n",
    "    \"\"\"\n",
    "    Mean-normalizes the data x (of shape (n, d))\n",
    "    If self.var_normalize, also divides by the standard deviation\n",
    "    \"\"\"\n",
    "    normalized_x = x - x.mean(axis=0, keepdims=True)\n",
    "    if var_normalize:\n",
    "        normalized_x /= normalized_x.std(axis=0, keepdims=True)\n",
    "\n",
    "    return normalized_x\n",
    "\n",
    "def get_credence(probe, x0_test, x1_test, device = \"cpu\"):\n",
    "    \"\"\"\n",
    "    Given a probe, compute credence for the current parameters on the given test inputs\n",
    "    \"\"\"\n",
    "    x0 = torch.tensor(normalize(x0_test), dtype=torch.float, requires_grad=False, device=device)\n",
    "    x1 = torch.tensor(normalize(x1_test), dtype=torch.float, requires_grad=False, device=device)\n",
    "    with torch.no_grad():\n",
    "        p0, p1 = probe(x0), probe(x1)\n",
    "    avg_confidence = 0.5 * (p0 + (1 - p1))\n",
    "\n",
    "    return avg_confidence\n",
    "\n",
    "def get_random_samples(data_set, n):\n",
    "    return np.random.choice(data_set, n)\n",
    "\n",
    "\n",
    "def get_hidden_states_many_examples(model, tokenizer, data, dataset_name, model_type, params):\n",
    "    \"\"\"\n",
    "    Given an encoder-decoder model, a list of data, computes the contrast hidden states on n random examples by probing the model according to the specified parameters (param = (layer_indices, token_positions, prompt_versions))\n",
    "    Returns numpy arrays of shape (n, hidden_dim) for each candidate label, along with a boolean numpy array of shape (n,)\n",
    "    with the ground truth labels\n",
    "    \n",
    "    This is deliberately simple so that it's easy to understand, rather than being optimized for efficiency\n",
    "    \"\"\"\n",
    "    # setup\n",
    "    model.eval()\n",
    "    all_neg_hs, all_pos_hs, all_gt_labels = [], [], []\n",
    "    layer, token_pos, prompt_version = params \n",
    "\n",
    "    # loop\n",
    "    for sample in data:\n",
    "        if dataset_name == \"imdb\":\n",
    "            text, true_label = sample[\"text\"], sample[\"label\"]\n",
    "        else:\n",
    "            text, true_label = sample[\"content\"], sample[\"label\"]\n",
    "                \n",
    "                \n",
    "        # get hidden states\n",
    "        neg_hs = utils.get_hidden_states(model, tokenizer, utils.format_imdb(prompt_version, text, 0), token_pos, layer, model_type=model_type)\n",
    "        pos_hs = utils.get_hidden_states(model, tokenizer, utils.format_imdb(prompt_version, text, 1), token_pos, layer, model_type=model_type)\n",
    "\n",
    "        # collect\n",
    "        all_neg_hs.append(neg_hs)\n",
    "        all_pos_hs.append(pos_hs)\n",
    "        all_gt_labels.append(true_label)\n",
    "\n",
    "    all_neg_hs = np.stack(all_neg_hs)\n",
    "    all_pos_hs = np.stack(all_pos_hs)\n",
    "    all_gt_labels = np.stack(all_gt_labels)\n",
    "\n",
    "    return all_neg_hs, all_pos_hs, all_gt_labels"
   ]
  },
  {
   "cell_type": "markdown",
   "metadata": {},
   "source": [
    "##### Functions for Aggregating Credences"
   ]
  },
  {
   "cell_type": "code",
   "execution_count": 31,
   "metadata": {},
   "outputs": [],
   "source": [
    "# aggregate a list of credences into one estimate using geometric mean\n",
    "def aggregate_gmean(credences):\n",
    "    k = np.shape(credences)[0]\n",
    "    result = np.power(np.prod(credences * (1 / (1 - credences))), 1 / k)\n",
    "    return 1 / (1 + result)\n",
    "\n",
    "# (To-DO) aggregragate a list of credences using weighted geometric mean\n",
    "def aggregate_gmean_weighted(credences, weights):\n",
    "    pass"
   ]
  },
  {
   "cell_type": "markdown",
   "metadata": {},
   "source": [
    "Testing a single probe on a different dataset"
   ]
  },
  {
   "cell_type": "markdown",
   "metadata": {},
   "source": [
    "##### Constructing CCS Pairs"
   ]
  },
  {
   "cell_type": "code",
   "execution_count": 23,
   "metadata": {},
   "outputs": [],
   "source": [
    "# hyper-parameters\n",
    "num_example = 2\n",
    "layer_idices = [1, 3, 5, 7, -1] \n",
    "token_positions = [-2, -1]\n",
    "prompt_versions = [\"imdb_1\", \"imdb_2\", \"imdb_3\"]\n",
    "data_sampled = get_random_samples(data, num_example)"
   ]
  },
  {
   "cell_type": "code",
   "execution_count": 24,
   "metadata": {},
   "outputs": [],
   "source": [
    "hidden_states_all = {}\n",
    "for (token_pos, layer_idx, version) in itertools.product(token_positions, layer_idices, prompt_versions):\n",
    "    neg_hs, pos_hs, y = get_hidden_states_many_examples(model, tokenizer, data_sampled, dataset_name, model_type, (token_pos, layer_idx, version))\n",
    "    hidden_states_all[(token_pos, layer_idx, version)] = (neg_hs, pos_hs, y)"
   ]
  },
  {
   "cell_type": "markdown",
   "metadata": {},
   "source": [
    "##### Training Probes"
   ]
  },
  {
   "cell_type": "code",
   "execution_count": 26,
   "metadata": {},
   "outputs": [
    {
     "name": "stdout",
     "output_type": "stream",
     "text": [
      "(array([[ 0.1521421 , -0.12457171, -0.13509175, ..., -0.59588575,\n",
      "         0.07217428, -0.37062734],\n",
      "       [ 0.1521421 , -0.12457171, -0.13509175, ..., -0.59588575,\n",
      "         0.07217428, -0.37062734]], shape=(2, 2048), dtype=float32), array([[ 0.1521421 , -0.12457171, -0.13509175, ..., -0.59588575,\n",
      "         0.07217428, -0.37062734],\n",
      "       [ 0.1521421 , -0.12457171, -0.13509175, ..., -0.59588575,\n",
      "         0.07217428, -0.37062734]], shape=(2, 2048), dtype=float32), array([0, 0]))\n",
      "(array([[-0.20350692, -0.13989064,  0.39452964, ..., -0.17272958,\n",
      "         0.11170503, -0.22297409],\n",
      "       [-0.20350692, -0.13989064,  0.39452964, ..., -0.17272958,\n",
      "         0.11170503, -0.22297409]], shape=(2, 2048), dtype=float32), array([[-0.20350692, -0.13989064,  0.39452964, ..., -0.17272958,\n",
      "         0.11170503, -0.22297409],\n",
      "       [-0.20350692, -0.13989064,  0.39452964, ..., -0.17272958,\n",
      "         0.11170503, -0.22297409]], shape=(2, 2048), dtype=float32), array([0, 0]))\n"
     ]
    }
   ],
   "source": [
    "print(hidden_states_all[(-2, 1, \"imdb_1\")])\n",
    "print(hidden_states_all[(-2, 1, \"imdb_2\")])"
   ]
  },
  {
   "cell_type": "code",
   "execution_count": 48,
   "metadata": {},
   "outputs": [],
   "source": [
    "probes = {} # a python dictionary of best probes accordng to the specified testing hyperparameters\n",
    "probabilities = {} # a python dictionary of credences according to \n",
    "log_reg = {}\n",
    "for (token_pos, layer_idx, version) in itertools.product(token_positions, layer_idices, prompt_versions):\n",
    "    neg_hs, pos_hs, all_y = hidden_states_all[(token_pos, layer_idx, version)]\n",
    "    neg_hs_train, neg_hs_test = neg_hs[ : num_example // 2], neg_hs[num_example // 2 : ]\n",
    "    pos_hs_train, pos_hs_test = pos_hs[ : num_example // 2], pos_hs[num_example // 2 : ]\n",
    "    y_train, y_test = all_y[ : num_example // 2], all_y[ num_example // 2 : ]\n",
    "    credence_estimator = all_classes.CE(neg_hs_train, pos_hs_train)\n",
    "    credence_estimator.repeated_train()\n",
    "    cur_best_probe = credence_estimator.get_best_probe()\n",
    "    probes[(token_pos, layer_idx, version)] = cur_best_probe\n",
    "    probabilities[(token_pos, layer_idx, version)] = credence_estimator.get_credence(neg_hs_test, pos_hs_test).detach().cpu().numpy()\n",
    "    # compute logistic regression\n",
    "    x_train = neg_hs_train - pos_hs_train\n",
    "    x_test = neg_hs_test - pos_hs_test\n",
    "\n",
    "    # lr = LogisticRegression(class_weight=\"balanced\")\n",
    "    # lr.fit(x_train, y_train)\n",
    "    # log_reg[(token_pos, layer_idx, version)] = lr.score(x_test, y_test)"
   ]
  },
  {
   "cell_type": "code",
   "execution_count": 46,
   "metadata": {},
   "outputs": [],
   "source": [
    "# print(probabilities)"
   ]
  },
  {
   "cell_type": "markdown",
   "metadata": {},
   "source": [
    "##### Testing Accuracies of the Probes"
   ]
  },
  {
   "cell_type": "code",
   "execution_count": 45,
   "metadata": {},
   "outputs": [
    {
     "name": "stdout",
     "output_type": "stream",
     "text": [
      "1.0\n"
     ]
    }
   ],
   "source": [
    "# list of aggregated credences\n",
    "credences_aggregated = []\n",
    "for i in range(num_example // 2):\n",
    "    # list of all credences of example i\n",
    "    all_estimates = [credences[i] for credences in probabilities.values()]\n",
    "    credences_aggregated.append(aggregate_gmean(np.array(all_estimates)))\n",
    "\n",
    "# list of true labels from the test set (the training examples are the same in training the probes)\n",
    "_, _, all_y = hidden_states_all[(-2, 1, \"imdb_1\")]\n",
    "credences_aggregated = np.array(credences_aggregated)\n",
    "y_test = all_y[num_example // 2 : ]\n",
    "predictions = (credences_aggregated < 0.5).astype(int)\n",
    "acc = (predictions == y_test).mean()\n",
    "acc = max(acc, 1 - acc)\n",
    "print(acc)\n",
    "    "
   ]
  },
  {
   "cell_type": "markdown",
   "metadata": {},
   "source": [
    "##### Logistic Regression"
   ]
  }
 ],
 "metadata": {
  "kernelspec": {
   "display_name": "Python 3",
   "language": "python",
   "name": "python3"
  },
  "language_info": {
   "codemirror_mode": {
    "name": "ipython",
    "version": 3
   },
   "file_extension": ".py",
   "mimetype": "text/x-python",
   "name": "python",
   "nbconvert_exporter": "python",
   "pygments_lexer": "ipython3",
   "version": "3.12.8"
  }
 },
 "nbformat": 4,
 "nbformat_minor": 2
}
