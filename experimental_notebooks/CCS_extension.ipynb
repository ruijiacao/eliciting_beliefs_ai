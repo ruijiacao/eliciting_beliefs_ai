{
 "cells": [
  {
   "cell_type": "code",
   "execution_count": 11,
   "metadata": {},
   "outputs": [
    {
     "name": "stdout",
     "output_type": "stream",
     "text": [
      "The autoreload extension is already loaded. To reload it, use:\n",
      "  %reload_ext autoreload\n"
     ]
    }
   ],
   "source": [
    "%load_ext autoreload\n",
    "%autoreload 2\n",
    "import utils\n",
    "import torch\n",
    "import numpy as np\n",
    "import all_classes\n",
    "from tqdm import tqdm\n",
    "from datasets import load_dataset\n",
    "from transformers import AutoTokenizer, AutoModelForSeq2SeqLM, AutoModelForMaskedLM, AutoModelForCausalLM, AutoModel\n",
    "from sklearn.linear_model import LogisticRegression"
   ]
  },
  {
   "cell_type": "code",
   "execution_count": 12,
   "metadata": {},
   "outputs": [],
   "source": [
    "\n",
    "#load datasets\n",
    "dataset_name = \"imdb\"\n",
    "# dataset_name = \"amazon_polarity\"\n",
    "data = load_dataset(\"imdb\")[\"test\"]\n",
    "# data = load_dataset(\"amazon_polarity\")[\"test\"]"
   ]
  },
  {
   "cell_type": "code",
   "execution_count": 13,
   "metadata": {},
   "outputs": [],
   "source": [
    "# Here are a few different model options you can play around with:\n",
    "model_name = \"llama3.2\"\n",
    "# model_name = \"llama3.3\"\n",
    "\n",
    "# the number of hidden dimensions of the model\n",
    "hidden_size = 2048\n",
    "num_layers = 16\n",
    "\n",
    "cache_dir = None\n",
    "\n",
    "if model_name == \"llama3.2\":\n",
    "    model_type = \"decoder\"\n",
    "    tokenizer = AutoTokenizer.from_pretrained(\"meta-llama/Llama-3.2-1B-Instruct\", cache_dir=cache_dir, token=True)\n",
    "    model = AutoModel.from_pretrained(\"meta-llama/Llama-3.2-1B-Instruct\", cache_dir=cache_dir, token=True)\n",
    "    hidden_size = model.config.hidden_size\n",
    "    num_layers = model.config.num_hidden_layers\n",
    "else:\n",
    "    print(\"Not implemented!\")"
   ]
  },
  {
   "cell_type": "code",
   "execution_count": 15,
   "metadata": {},
   "outputs": [
    {
     "name": "stderr",
     "output_type": "stream",
     "text": [
      "100%|██████████| 100/100 [01:56<00:00,  1.16s/it]\n"
     ]
    }
   ],
   "source": [
    "neg_hs, pos_hs, y = utils.get_hidden_states_many_examples(model, tokenizer, data, dataset_name, model_type)"
   ]
  },
  {
   "cell_type": "code",
   "execution_count": 16,
   "metadata": {},
   "outputs": [
    {
     "name": "stdout",
     "output_type": "stream",
     "text": [
      "[1 0 0 0 1 1 0 1 1 1 0 0 1 1 0 1 0 0 1 1 1 0 1 1 0 0 0 0 0 1 0 0 1 1 0 0 1\n",
      " 1 1 0 1 0 0 1 1 1 1 0 0 0 0 0 1 0 1 1 0 0 0 0 0 1 0 1 0 1 1 1 1 1 1 1 0 0\n",
      " 1 1 0 0 1 0 1 1 1 0 0 1 1 0 0 1 0 0 1 0 0 0 1 1 1 1]\n",
      "(100, 2048)\n",
      "(100, 2048)\n"
     ]
    }
   ],
   "source": [
    "print(y)\n",
    "print(np.shape(neg_hs))\n",
    "print(np.shape(pos_hs))"
   ]
  },
  {
   "cell_type": "markdown",
   "metadata": {},
   "source": [
    "\n",
    "## Let's verify that the model's representations are good\n",
    "\n",
    "Before trying CCS, let's make sure there exists a direction that classifies examples as true vs false with high accuracy; if logistic regression accuracy is bad, there's no hope of CCS doing well."
   ]
  },
  {
   "cell_type": "code",
   "execution_count": 18,
   "metadata": {},
   "outputs": [
    {
     "name": "stdout",
     "output_type": "stream",
     "text": [
      "Logistic regression accuracy: 0.92\n"
     ]
    }
   ],
   "source": [
    "\n",
    "# let's create a simple 50/50 train split (the data is already randomized)\n",
    "n = len(y)\n",
    "neg_hs_train, neg_hs_test = neg_hs[:n//2], neg_hs[n//2:]\n",
    "pos_hs_train, pos_hs_test = pos_hs[:n//2], pos_hs[n//2:]\n",
    "y_train, y_test = y[:n//2], y[n//2:]\n",
    "\n",
    "# for simplicity we can just take the difference between positive and negative hidden states\n",
    "# (concatenating also works fine)\n",
    "x_train = neg_hs_train - pos_hs_train\n",
    "x_test = neg_hs_test - pos_hs_test\n",
    "\n",
    "lr = LogisticRegression(class_weight=\"balanced\")\n",
    "lr.fit(x_train, y_train)\n",
    "print(\"Logistic regression accuracy: {}\".format(lr.score(x_test, y_test)))"
   ]
  },
  {
   "cell_type": "markdown",
   "metadata": {},
   "source": [
    "## Aggregating probes from all layers "
   ]
  },
  {
   "cell_type": "code",
   "execution_count": null,
   "metadata": {},
   "outputs": [],
   "source": [
    "# aggregate a list of credences into one estimate\n",
    "def aggregate(credences):\n",
    "    result = np.sqrt(np.prod(credences * (1 / (1 - credences))))\n",
    "    return 1 / (1 + result)\n",
    "\n",
    "# return a list of extracted hidden state representations, each of which is \n",
    "# a tuple (pos_hs, neg_hs, y)\n",
    "def construct_ccs(layers, num_examples):\n",
    "    pos_hs_all = []\n",
    "    neg_hs_all = []\n",
    "    y_all = []\n",
    "    for i in layers:\n",
    "        neg_hs, pos_hs, y =  utils.get_hidden_states_many_examples(model, tokenizer, data, dataset_name, model_type, layer = i, n = num_examples)\n",
    "        neg_hs_all.append(neg_hs)\n",
    "        pos_hs_all.append(pos_hs)\n",
    "        y_all.append(y)\n",
    "    return pos_hs_all, neg_hs_all, y_all\n"
   ]
  },
  {
   "cell_type": "code",
   "execution_count": null,
   "metadata": {},
   "outputs": [
    {
     "name": "stderr",
     "output_type": "stream",
     "text": [
      "100%|██████████| 30/30 [00:40<00:00,  1.35s/it]\n",
      "100%|██████████| 30/30 [00:40<00:00,  1.34s/it]\n",
      "100%|██████████| 30/30 [00:35<00:00,  1.19s/it]\n",
      "100%|██████████| 30/30 [00:34<00:00,  1.16s/it]\n",
      "100%|██████████| 30/30 [00:40<00:00,  1.34s/it]\n"
     ]
    }
   ],
   "source": [
    "# Getting the hidden state representations of all the events\n",
    "# and their complements\n",
    "layers_idx = [1, 3, 5, 7, 15]\n",
    "pos_hs_all, neg_hs_all, y_all = construct_ccs(layers_idx, 30)"
   ]
  },
  {
   "cell_type": "code",
   "execution_count": 53,
   "metadata": {},
   "outputs": [
    {
     "name": "stdout",
     "output_type": "stream",
     "text": [
      "Sequential(\n",
      "  (0): Linear(in_features=2048, out_features=1, bias=True)\n",
      "  (1): Sigmoid()\n",
      ")\n"
     ]
    }
   ],
   "source": [
    "probes = []\n",
    "for i in layers_idx:\n",
    "    pos_hs = pos_hs_all[i]\n",
    "    neg_hs = neg_hs_all[i]\n",
    "    y = y_all[i]\n",
    "    neg_hs_train, neg_hs_test = neg_hs[:n//2], neg_hs[n//2:]\n",
    "    pos_hs_train, pos_hs_test = pos_hs[:n//2], pos_hs[n//2:]\n",
    "    y_train, y_test = y[:n//2], y[n//2:]\n",
    "    credence = all_classes.CE(neg_hs_train, pos_hs_train)\n",
    "    credence.repeated_train()\n",
    "    probes.append(credence.best_probe)\n",
    "\n",
    "\n",
    "# Evaluate\n",
    "# ccs_acc = credence.get_acc(neg_hs_test, pos_hs_test, y_test)\n",
    "# print(\"CE accuracy: {}\".format(ccs_acc))\n"
   ]
  },
  {
   "cell_type": "code",
   "execution_count": null,
   "metadata": {},
   "outputs": [
    {
     "name": "stdout",
     "output_type": "stream",
     "text": [
      "[Parameter containing:\n",
      "tensor([[ 0.0027, -0.0632, -0.0114,  ...,  0.0663, -0.0689,  0.0006]],\n",
      "       requires_grad=True), Parameter containing:\n",
      "tensor([-0.0762], requires_grad=True)]\n"
     ]
    }
   ],
   "source": [
    "# print([param for param in probes[0].parameters()])"
   ]
  }
 ],
 "metadata": {
  "kernelspec": {
   "display_name": "Python 3",
   "language": "python",
   "name": "python3"
  },
  "language_info": {
   "codemirror_mode": {
    "name": "ipython",
    "version": 3
   },
   "file_extension": ".py",
   "mimetype": "text/x-python",
   "name": "python",
   "nbconvert_exporter": "python",
   "pygments_lexer": "ipython3",
   "version": "3.12.8"
  }
 },
 "nbformat": 4,
 "nbformat_minor": 2
}
