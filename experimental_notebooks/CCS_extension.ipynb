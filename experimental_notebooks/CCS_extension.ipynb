{
 "cells": [
  {
   "cell_type": "code",
   "execution_count": 40,
   "metadata": {},
   "outputs": [
    {
     "name": "stdout",
     "output_type": "stream",
     "text": [
      "The autoreload extension is already loaded. To reload it, use:\n",
      "  %reload_ext autoreload\n"
     ]
    }
   ],
   "source": [
    "%load_ext autoreload\n",
    "%autoreload 2\n",
    "import utils\n",
    "import torch\n",
    "import numpy as np\n",
    "import all_classes\n",
    "from tqdm import tqdm\n",
    "from datasets import load_dataset\n",
    "from transformers import AutoTokenizer, AutoModelForSeq2SeqLM, AutoModelForMaskedLM, AutoModelForCausalLM, AutoModel\n",
    "from sklearn.linear_model import LogisticRegression"
   ]
  },
  {
   "cell_type": "code",
   "execution_count": 41,
   "metadata": {},
   "outputs": [],
   "source": [
    "\n",
    "#load datasets\n",
    "dataset_name = \"imdb\"\n",
    "# dataset_name = \"amazon_polarity\"\n",
    "data = load_dataset(\"imdb\")[\"test\"]\n",
    "# data = load_dataset(\"amazon_polarity\")[\"test\"]"
   ]
  },
  {
   "cell_type": "code",
   "execution_count": 42,
   "metadata": {},
   "outputs": [],
   "source": [
    "# Here are a few different model options you can play around with:\n",
    "model_name = \"llama3.2\"\n",
    "# model_name = \"llama3.3\"\n",
    "\n",
    "# the number of hidden dimensions of the model\n",
    "hidden_size = 2048\n",
    "num_layers = 16\n",
    "\n",
    "cache_dir = None\n",
    "\n",
    "if model_name == \"llama3.2\":\n",
    "    model_type = \"decoder\"\n",
    "    tokenizer = AutoTokenizer.from_pretrained(\"meta-llama/Llama-3.2-1B-Instruct\", cache_dir=cache_dir, token=True)\n",
    "    model = AutoModel.from_pretrained(\"meta-llama/Llama-3.2-1B-Instruct\", cache_dir=cache_dir, token=True)\n",
    "    hidden_size = model.config.hidden_size\n",
    "    num_layers = model.config.num_hidden_layers\n",
    "else:\n",
    "    print(\"Not implemented!\")"
   ]
  },
  {
   "cell_type": "code",
   "execution_count": 69,
   "metadata": {},
   "outputs": [
    {
     "name": "stdout",
     "output_type": "stream",
     "text": [
      "The following movie review expresses a negative sentiment:\n",
      "This movie is terrible!\n",
      " Does the above movie review express a negative sentiment?Answer: Yes\n"
     ]
    }
   ],
   "source": [
    "text = \"This movie is terrible!\"\n",
    "print(utils.format_imdb_3(text, 0))"
   ]
  },
  {
   "cell_type": "code",
   "execution_count": 68,
   "metadata": {},
   "outputs": [
    {
     "name": "stdout",
     "output_type": "stream",
     "text": [
      "[-1.10257590e+00 -3.79139977e-03  3.79273725e+00 ...  7.21308661e+00\n",
      "  1.11337505e-01  1.13481593e+00]\n",
      "[-2.1286638   5.4883676   3.6976395  ... -2.765409   -1.9739221\n",
      "  0.19073382]\n"
     ]
    }
   ],
   "source": [
    "test = \"Is the sky blue? Answer: True\"\n",
    "output = utils.get_decoder_hidden_states(model, tokenizer, test, layer = -1, token_pos = -1)\n",
    "output_2 = utils.get_decoder_hidden_states(model, tokenizer, test, layer = -1, token_pos = -2)\n",
    "print(output)\n",
    "print(output_2)\n"
   ]
  },
  {
   "cell_type": "code",
   "execution_count": 43,
   "metadata": {},
   "outputs": [
    {
     "name": "stderr",
     "output_type": "stream",
     "text": [
      "100%|██████████| 30/30 [00:37<00:00,  1.24s/it]\n"
     ]
    }
   ],
   "source": [
    "neg_hs, pos_hs, y = utils.get_hidden_states_many_examples(model, tokenizer, data, dataset_name, model_type, n = 30)"
   ]
  },
  {
   "cell_type": "code",
   "execution_count": 44,
   "metadata": {},
   "outputs": [
    {
     "name": "stdout",
     "output_type": "stream",
     "text": [
      "[0 0 1 0 0 0 0 0 1 0 1 1 1 1 0 0 1 0 1 0 1 1 0 0 0 0 1 0 1 1]\n",
      "(30, 2048)\n",
      "(30, 2048)\n"
     ]
    }
   ],
   "source": [
    "print(y)\n",
    "print(np.shape(neg_hs))\n",
    "print(np.shape(pos_hs))"
   ]
  },
  {
   "cell_type": "markdown",
   "metadata": {},
   "source": [
    "\n",
    "## Let's verify that the model's representations are good\n",
    "\n",
    "Before trying CCS, let's make sure there exists a direction that classifies examples as true vs false with high accuracy; if logistic regression accuracy is bad, there's no hope of CCS doing well."
   ]
  },
  {
   "cell_type": "code",
   "execution_count": 54,
   "metadata": {},
   "outputs": [
    {
     "name": "stdout",
     "output_type": "stream",
     "text": [
      "Logistic regression accuracy: 0.26666666666666666\n",
      "CCS accuracy: 0.6\n"
     ]
    }
   ],
   "source": [
    "\n",
    "# let's create a simple 50/50 train split (the data is already randomized)\n",
    "n = len(y)\n",
    "neg_hs_train, neg_hs_test = neg_hs[:n//2], neg_hs[n//2:]\n",
    "pos_hs_train, pos_hs_test = pos_hs[:n//2], pos_hs[n//2:]\n",
    "y_train, y_test = y[:n//2], y[n//2:]\n",
    "\n",
    "# for simplicity we can just take the difference between positive and negative hidden states\n",
    "# (concatenating also works fine)\n",
    "x_train = neg_hs_train - pos_hs_train\n",
    "x_test = neg_hs_test - pos_hs_test\n",
    "\n",
    "lr = LogisticRegression(class_weight=\"balanced\")\n",
    "lr.fit(x_train, y_train)\n",
    "print(\"Logistic regression accuracy: {}\".format(lr.score(x_test, y_test)))\n",
    "\n",
    "ccs = all_classes.CE(neg_hs_train, pos_hs_train)\n",
    "ccs.repeated_train()\n",
    "\n",
    "# Evaluate\n",
    "ccs_acc = ccs.get_acc(neg_hs_test, pos_hs_test, y_test)\n",
    "print(\"CCS accuracy: {}\".format(ccs_acc))\n",
    "# print(ccs.get_credence(neg_hs_test, pos_hs_test))"
   ]
  },
  {
   "cell_type": "markdown",
   "metadata": {},
   "source": [
    "## Aggregating probes from all layers "
   ]
  },
  {
   "cell_type": "code",
   "execution_count": 55,
   "metadata": {},
   "outputs": [],
   "source": [
    "# aggregate a list of credences into one estimate\n",
    "def aggregate(credences):\n",
    "    k = np.shape(credences)[0]\n",
    "    result = np.power(np.prod(credences * (1 / (1 - credences))), 1 / k)\n",
    "    return 1 / (1 + result)"
   ]
  },
  {
   "cell_type": "markdown",
   "metadata": {},
   "source": [
    "Get the hidden state representations from the specified layers"
   ]
  },
  {
   "cell_type": "code",
   "execution_count": 47,
   "metadata": {},
   "outputs": [
    {
     "name": "stderr",
     "output_type": "stream",
     "text": [
      "100%|██████████| 30/30 [03:15<00:00,  6.51s/it]\n"
     ]
    }
   ],
   "source": [
    "num_example = 30\n",
    "layer_idx = [1, 3, 5, 7, -1] # training 5 probes\n",
    "all_neg_hs, all_pos_hs, all_y = utils.get_hidden_states_multiple_layers(model, tokenizer, data, dataset_name, model_type, layer_idx, num_samples = num_example)"
   ]
  },
  {
   "cell_type": "markdown",
   "metadata": {},
   "source": [
    "Get a list of probes for each specified layer"
   ]
  },
  {
   "cell_type": "code",
   "execution_count": 57,
   "metadata": {},
   "outputs": [
    {
     "name": "stdout",
     "output_type": "stream",
     "text": [
      "(30, 2048)\n"
     ]
    }
   ],
   "source": [
    "# probes = []\n",
    "probabilities = []\n",
    "pos_hs = [cur_pos_hs[0] for cur_pos_hs in all_pos_hs]\n",
    "pos_hs = np.stack(pos_hs)\n",
    "print(pos_hs.shape)\n",
    "for i in range(len(layer_idx)):\n",
    "    pos_hs = [cur_pos_hs[i] for cur_pos_hs in all_pos_hs]\n",
    "    neg_hs = [cur_neg_hs[i] for cur_neg_hs in all_neg_hs]\n",
    "    pos_hs = np.stack(pos_hs)\n",
    "    neg_hs = np.stack(neg_hs)\n",
    "    neg_hs_train, neg_hs_test = neg_hs[ : num_example // 2], neg_hs[num_example // 2 : ]\n",
    "    pos_hs_train, pos_hs_test = pos_hs[ : num_example // 2], pos_hs[num_example // 2 : ]\n",
    "    y_train, y_test = all_y[ : num_example // 2], all_y[ num_example // 2 : ]\n",
    "    credence = all_classes.CE(neg_hs_train, pos_hs_train)\n",
    "    credence.repeated_train()\n",
    "    # probes.append(credence.best_probe)\n",
    "    probabilities.append(credence.get_credence(neg_hs_test, pos_hs_test).detach().cpu().numpy())\n"
   ]
  },
  {
   "cell_type": "markdown",
   "metadata": {},
   "source": [
    "Test accuracy by aggregating all the probes"
   ]
  },
  {
   "cell_type": "code",
   "execution_count": 62,
   "metadata": {},
   "outputs": [
    {
     "name": "stdout",
     "output_type": "stream",
     "text": [
      "[[0.4993142  0.49796697 0.50105333 0.4973266  0.4993839  0.4972742\n",
      "  0.5045226  0.49668664 0.499156   0.4975614  0.4972448  0.5067036\n",
      "  0.49774194 0.50550467 0.5012561 ]\n",
      " [0.49452716 0.49753243 0.5172639  0.49563998 0.4983451  0.47776687\n",
      "  0.55358416 0.47949576 0.5051989  0.4884322  0.49134907 0.5500088\n",
      "  0.4844451  0.5552918  0.526064  ]\n",
      " [0.60123444 0.49233457 0.50346875 0.42395252 0.5766477  0.46747336\n",
      "  0.27280578 0.4759426  0.52295756 0.5264248  0.49693733 0.34228867\n",
      "  0.47336924 0.53472066 0.7534312 ]\n",
      " [0.5852995  0.27904275 0.6241346  0.2313874  0.55167127 0.65759796\n",
      "  0.01123709 0.42998642 0.93807113 0.67645633 0.54651463 0.01329583\n",
      "  0.8072931  0.75286496 0.87512684]\n",
      " [0.5003134  0.12515824 0.82509303 0.487929   0.59937376 0.5022152\n",
      "  0.01767434 0.23070891 0.9985726  0.49995178 0.4999254  0.00741782\n",
      "  0.550017   0.7234493  0.49792603]]\n",
      "[0.4634754  0.64301383 0.39433894 0.5785193  0.454614   0.47844917\n",
      " 0.8639444  0.5831135  0.13290387 0.4607258  0.49357936 0.87278235\n",
      " 0.4277414  0.3794796  0.34682402]\n"
     ]
    }
   ],
   "source": [
    "probabilities = np.array(probabilities)\n",
    "probabilities = np.reshape(probabilities, (len(layer_idx), num_example // 2))\n",
    "print(probabilities)\n",
    "probs_agg = [aggregate(probabilities[:, j]) for j in range(num_example // 2)]\n",
    "probs_agg = np.array(probs_agg)\n",
    "predictions = (probs_agg < 0.5).astype(int)\n",
    "print(probs_agg)"
   ]
  },
  {
   "cell_type": "code",
   "execution_count": 59,
   "metadata": {},
   "outputs": [
    {
     "name": "stdout",
     "output_type": "stream",
     "text": [
      "CCS accuracy by aggregating truth vectors: 1.0\n"
     ]
    }
   ],
   "source": [
    "acc = (predictions == y_test).mean()\n",
    "acc = max(acc, 1 - acc)\n",
    "print(\"CCS accuracy by aggregating truth vectors: {}\".format(acc))"
   ]
  },
  {
   "cell_type": "markdown",
   "metadata": {},
   "source": [
    "Logistic Regression"
   ]
  }
 ],
 "metadata": {
  "kernelspec": {
   "display_name": "Python 3",
   "language": "python",
   "name": "python3"
  },
  "language_info": {
   "codemirror_mode": {
    "name": "ipython",
    "version": 3
   },
   "file_extension": ".py",
   "mimetype": "text/x-python",
   "name": "python",
   "nbconvert_exporter": "python",
   "pygments_lexer": "ipython3",
   "version": "3.12.8"
  }
 },
 "nbformat": 4,
 "nbformat_minor": 2
}
