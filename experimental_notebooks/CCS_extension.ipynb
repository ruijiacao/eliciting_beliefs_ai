{
 "cells": [
  {
   "cell_type": "code",
   "execution_count": 36,
   "metadata": {},
   "outputs": [
    {
     "name": "stdout",
     "output_type": "stream",
     "text": [
      "The autoreload extension is already loaded. To reload it, use:\n",
      "  %reload_ext autoreload\n"
     ]
    }
   ],
   "source": [
    "%load_ext autoreload\n",
    "%autoreload 2\n",
    "import utils\n",
    "import torch\n",
    "import numpy as np\n",
    "import all_classes\n",
    "from tqdm import tqdm\n",
    "from datasets import load_dataset\n",
    "from transformers import AutoTokenizer, AutoModelForSeq2SeqLM, AutoModelForMaskedLM, AutoModelForCausalLM, AutoModel\n",
    "from sklearn.linear_model import LogisticRegression"
   ]
  },
  {
   "cell_type": "code",
   "execution_count": 37,
   "metadata": {},
   "outputs": [],
   "source": [
    "\n",
    "#load datasets\n",
    "dataset_name = \"imdb\"\n",
    "# dataset_name = \"amazon_polarity\"\n",
    "data = load_dataset(\"imdb\")[\"test\"]\n",
    "# data = load_dataset(\"amazon_polarity\")[\"test\"]"
   ]
  },
  {
   "cell_type": "code",
   "execution_count": 38,
   "metadata": {},
   "outputs": [],
   "source": [
    "# Here are a few different model options you can play around with:\n",
    "model_name = \"llama3.2\"\n",
    "# model_name = \"llama3.3\"\n",
    "\n",
    "# the number of hidden dimensions of the model\n",
    "hidden_size = 2048\n",
    "num_layers = 16\n",
    "\n",
    "cache_dir = None\n",
    "\n",
    "if model_name == \"llama3.2\":\n",
    "    model_type = \"decoder\"\n",
    "    tokenizer = AutoTokenizer.from_pretrained(\"meta-llama/Llama-3.2-1B-Instruct\", cache_dir=cache_dir, token=True)\n",
    "    model = AutoModel.from_pretrained(\"meta-llama/Llama-3.2-1B-Instruct\", cache_dir=cache_dir, token=True)\n",
    "    hidden_size = model.config.hidden_size\n",
    "    num_layers = model.config.num_hidden_layers\n",
    "else:\n",
    "    print(\"Not implemented!\")"
   ]
  },
  {
   "cell_type": "code",
   "execution_count": 39,
   "metadata": {},
   "outputs": [
    {
     "name": "stderr",
     "output_type": "stream",
     "text": [
      "100%|██████████| 100/100 [01:51<00:00,  1.11s/it]\n"
     ]
    }
   ],
   "source": [
    "neg_hs, pos_hs, y = utils.get_hidden_states_many_examples(model, tokenizer, data, dataset_name, model_type)"
   ]
  },
  {
   "cell_type": "code",
   "execution_count": 40,
   "metadata": {},
   "outputs": [
    {
     "name": "stdout",
     "output_type": "stream",
     "text": [
      "[1 0 0 0 1 0 0 1 0 1 1 0 1 0 0 1 1 0 1 1 1 1 1 0 1 0 0 0 0 0 1 0 0 1 0 1 0\n",
      " 0 0 0 1 0 0 1 1 1 0 0 1 0 1 0 1 0 1 0 0 1 0 0 1 0 1 0 0 1 1 0 1 0 1 1 0 0\n",
      " 0 1 0 1 0 1 1 1 0 1 1 1 0 1 1 0 0 1 0 1 0 1 1 0 1 0]\n",
      "(100, 2048)\n",
      "(100, 2048)\n"
     ]
    }
   ],
   "source": [
    "print(y)\n",
    "print(np.shape(neg_hs))\n",
    "print(np.shape(pos_hs))"
   ]
  },
  {
   "cell_type": "markdown",
   "metadata": {},
   "source": [
    "\n",
    "## Let's verify that the model's representations are good\n",
    "\n",
    "Before trying CCS, let's make sure there exists a direction that classifies examples as true vs false with high accuracy; if logistic regression accuracy is bad, there's no hope of CCS doing well."
   ]
  },
  {
   "cell_type": "code",
   "execution_count": 46,
   "metadata": {},
   "outputs": [
    {
     "name": "stdout",
     "output_type": "stream",
     "text": [
      "Logistic regression accuracy: 0.92\n",
      "CCS accuracy: 0.8\n",
      "tensor([[0.5633],\n",
      "        [0.8014],\n",
      "        [0.5043],\n",
      "        [0.4963],\n",
      "        [0.6487],\n",
      "        [0.1698],\n",
      "        [0.0342],\n",
      "        [0.9875],\n",
      "        [0.4748],\n",
      "        [0.3775],\n",
      "        [0.5047],\n",
      "        [0.4101],\n",
      "        [0.5081],\n",
      "        [0.4992],\n",
      "        [0.1594],\n",
      "        [0.7513],\n",
      "        [0.5758],\n",
      "        [0.0624],\n",
      "        [0.9953],\n",
      "        [0.2548],\n",
      "        [0.9792],\n",
      "        [0.2900],\n",
      "        [0.4808],\n",
      "        [0.0193],\n",
      "        [0.3323],\n",
      "        [0.9421],\n",
      "        [0.0259],\n",
      "        [0.5765],\n",
      "        [0.4997],\n",
      "        [0.8542],\n",
      "        [0.7259],\n",
      "        [0.9990],\n",
      "        [0.4907],\n",
      "        [0.9130],\n",
      "        [0.9984],\n",
      "        [0.4534],\n",
      "        [0.4996],\n",
      "        [0.6264],\n",
      "        [0.0185],\n",
      "        [0.1096],\n",
      "        [0.4570],\n",
      "        [0.5977],\n",
      "        [0.0221],\n",
      "        [0.8957],\n",
      "        [0.4941],\n",
      "        [0.9835],\n",
      "        [0.9896],\n",
      "        [0.0635],\n",
      "        [0.9999],\n",
      "        [0.1919]])\n"
     ]
    }
   ],
   "source": [
    "\n",
    "# let's create a simple 50/50 train split (the data is already randomized)\n",
    "n = len(y)\n",
    "neg_hs_train, neg_hs_test = neg_hs[:n//2], neg_hs[n//2:]\n",
    "pos_hs_train, pos_hs_test = pos_hs[:n//2], pos_hs[n//2:]\n",
    "y_train, y_test = y[:n//2], y[n//2:]\n",
    "\n",
    "# for simplicity we can just take the difference between positive and negative hidden states\n",
    "# (concatenating also works fine)\n",
    "x_train = neg_hs_train - pos_hs_train\n",
    "x_test = neg_hs_test - pos_hs_test\n",
    "\n",
    "lr = LogisticRegression(class_weight=\"balanced\")\n",
    "lr.fit(x_train, y_train)\n",
    "print(\"Logistic regression accuracy: {}\".format(lr.score(x_test, y_test)))\n",
    "\n",
    "ccs = all_classes.CE(neg_hs_train, pos_hs_train)\n",
    "ccs.repeated_train()\n",
    "\n",
    "# Evaluate\n",
    "ccs_acc = credence.get_acc(neg_hs_test, pos_hs_test, y_test)\n",
    "print(\"CCS accuracy: {}\".format(ccs_acc))\n",
    "print(ccs.get_credence(neg_hs_test, pos_hs_test))"
   ]
  },
  {
   "cell_type": "markdown",
   "metadata": {},
   "source": [
    "## Aggregating probes from all layers "
   ]
  },
  {
   "cell_type": "code",
   "execution_count": 9,
   "metadata": {},
   "outputs": [],
   "source": [
    "# aggregate a list of credences into one estimate\n",
    "def aggregate(credences):\n",
    "    result = np.sqrt(np.prod(credences * (1 / (1 - credences))))\n",
    "    return 1 / (1 + result)"
   ]
  },
  {
   "cell_type": "markdown",
   "metadata": {},
   "source": [
    "Get the hidden state representations from the specified layers"
   ]
  },
  {
   "cell_type": "code",
   "execution_count": 10,
   "metadata": {},
   "outputs": [
    {
     "name": "stderr",
     "output_type": "stream",
     "text": [
      "100%|██████████| 30/30 [03:06<00:00,  6.22s/it]\n"
     ]
    }
   ],
   "source": [
    "num_example = 30\n",
    "layer_idx = [1, 3, 5, 7, -1]\n",
    "all_neg_hs, all_pos_hs, all_y = utils.get_hidden_states_multiple_layers(model, tokenizer, data, dataset_name, model_type, layer_idx, num_samples = num_example)"
   ]
  },
  {
   "cell_type": "markdown",
   "metadata": {},
   "source": [
    "Get a list of probes for each specified layer"
   ]
  },
  {
   "cell_type": "code",
   "execution_count": 15,
   "metadata": {},
   "outputs": [
    {
     "name": "stdout",
     "output_type": "stream",
     "text": [
      "(30, 2048)\n"
     ]
    }
   ],
   "source": [
    "# probes = []\n",
    "probabilities = []\n",
    "pos_hs = [cur_pos_hs[0] for cur_pos_hs in all_pos_hs]\n",
    "pos_hs = np.stack(pos_hs)\n",
    "print(pos_hs.shape)\n",
    "for i in range(len(layer_idx)):\n",
    "    pos_hs = [cur_pos_hs[i] for cur_pos_hs in all_pos_hs]\n",
    "    neg_hs = [cur_neg_hs[i] for cur_neg_hs in all_neg_hs]\n",
    "    pos_hs = np.stack(pos_hs)\n",
    "    neg_hs = np.stack(neg_hs)\n",
    "    neg_hs_train, neg_hs_test = neg_hs[ : num_example // 2], neg_hs[num_example // 2 : ]\n",
    "    pos_hs_train, pos_hs_test = pos_hs[ : num_example // 2], pos_hs[num_example // 2 : ]\n",
    "    y_train, y_test = all_y[ : num_example // 2], all_y[ num_example // 2 : ]\n",
    "    credence = all_classes.CE(neg_hs_train, pos_hs_train)\n",
    "    credence.repeated_train()\n",
    "    # probes.append(credence.best_probe)\n",
    "    probabilities.append(credence.get_credence(neg_hs_test, pos_hs_test))\n"
   ]
  },
  {
   "cell_type": "markdown",
   "metadata": {},
   "source": [
    "Test accuracy by aggregating all the probes"
   ]
  },
  {
   "cell_type": "code",
   "execution_count": 30,
   "metadata": {},
   "outputs": [
    {
     "name": "stdout",
     "output_type": "stream",
     "text": [
      "tensor([[0.5022],\n",
      "        [0.5017],\n",
      "        [0.5004],\n",
      "        [0.5004],\n",
      "        [0.5004],\n",
      "        [0.5024],\n",
      "        [0.5018],\n",
      "        [0.4987],\n",
      "        [0.4901],\n",
      "        [0.5029],\n",
      "        [0.5008],\n",
      "        [0.4996],\n",
      "        [0.4945],\n",
      "        [0.5025],\n",
      "        [0.5018]])\n",
      "tensor([[0.4890],\n",
      "        [0.4951],\n",
      "        [0.5100],\n",
      "        [0.4958],\n",
      "        [0.5020],\n",
      "        [0.4816],\n",
      "        [0.4753],\n",
      "        [0.5096],\n",
      "        [0.5498],\n",
      "        [0.4735],\n",
      "        [0.5042],\n",
      "        [0.5167],\n",
      "        [0.5412],\n",
      "        [0.4819],\n",
      "        [0.4772]])\n",
      "tensor([[0.6642],\n",
      "        [0.4816],\n",
      "        [0.5450],\n",
      "        [0.4949],\n",
      "        [0.4844],\n",
      "        [0.5454],\n",
      "        [0.5778],\n",
      "        [0.5506],\n",
      "        [0.4958],\n",
      "        [0.7104],\n",
      "        [0.3469],\n",
      "        [0.4951],\n",
      "        [0.4944],\n",
      "        [0.6091],\n",
      "        [0.5000]])\n"
     ]
    }
   ],
   "source": [
    "print(probabilities[0])\n",
    "print(probabilities[1])\n",
    "print(probabilities[2])\n",
    "# predictions = (probabilities[0].detach().cpu().numpy() < 0.5).astype(int)[:, 0]\n",
    "# acc = (predictions == y_test).mean()\n",
    "# acc = max(acc, 1 - acc)\n",
    "# print(acc)"
   ]
  },
  {
   "cell_type": "markdown",
   "metadata": {},
   "source": [
    "Logistic Regression"
   ]
  }
 ],
 "metadata": {
  "kernelspec": {
   "display_name": "Python 3",
   "language": "python",
   "name": "python3"
  },
  "language_info": {
   "codemirror_mode": {
    "name": "ipython",
    "version": 3
   },
   "file_extension": ".py",
   "mimetype": "text/x-python",
   "name": "python",
   "nbconvert_exporter": "python",
   "pygments_lexer": "ipython3",
   "version": "3.12.8"
  }
 },
 "nbformat": 4,
 "nbformat_minor": 2
}
