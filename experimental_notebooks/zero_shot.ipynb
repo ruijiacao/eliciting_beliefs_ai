{
 "cells": [
  {
   "cell_type": "code",
   "execution_count": 1,
   "id": "ea685776",
   "metadata": {},
   "outputs": [
    {
     "name": "stderr",
     "output_type": "stream",
     "text": [
      "/Users/ruijiacao/Documents/Ruijia/Research/eliciting_beliefs_llm/eliciting_beliefs_ai/.conda/lib/python3.12/site-packages/tqdm/auto.py:21: TqdmWarning: IProgress not found. Please update jupyter and ipywidgets. See https://ipywidgets.readthedocs.io/en/stable/user_install.html\n",
      "  from .autonotebook import tqdm as notebook_tqdm\n"
     ]
    }
   ],
   "source": [
    "%load_ext autoreload\n",
    "%autoreload 2\n",
    "\n",
    "import torch\n",
    "from torch import nn\n",
    "from transformers import AutoTokenizer, AutoModelForCausalLM\n",
    "from sklearn.linear_model import LogisticRegression\n",
    "from sklearn.preprocessing import StandardScaler\n",
    "import numpy as np\n",
    "from torch.utils.data import DataLoader, TensorDataset\n",
    "\n",
    "import torch.nn as nn\n",
    "import torch.nn.functional as F\n",
    "import copy"
   ]
  },
  {
   "cell_type": "code",
   "execution_count": null,
   "id": "91e458ea",
   "metadata": {},
   "outputs": [],
   "source": [
    "class ZeroShotTester:\n",
    "    def __init__(self, model_name, device=None, dtype=torch.float16):\n",
    "        self.device = device or (\"cuda\" if torch.cuda.is_available() else \"cpu\")\n",
    "        self.model_name = model_name\n",
    "        self.tokenizer = AutoTokenizer.from_pretrained(model_name)\n",
    "        self.model = AutoModelForCausalLM.from_pretrained(\n",
    "            model_name, torch_dtype=dtype, device_map=\"auto\"\n",
    "        )\n",
    "        self.model.eval()\n",
    "\n",
    "    @torch.no_grad()\n",
    "    def get_hidden_state(self, text, layer_index):\n",
    "        inputs = self.tokenizer(text, return_tensors=\"pt\", padding=True, truncation=True).to(self.device)\n",
    "        outputs = self.model(**inputs, output_hidden_states=True, return_dict=True)\n",
    "        return outputs.hidden_states[layer_index][0]  # [seq_len, hidden_dim]\n",
    "\n",
    "    def get_token_representation(self, text, layer, position):\n",
    "        hidden = self.get_hidden_state(text, layer)\n",
    "        return hidden[position]\n",
    "\n",
    "    def extract_representations(self, sentences, layer, position):\n",
    "        reps = [self.get_token_representation(s, layer, position).cpu() for s in tqdm(sentences)]\n",
    "        return torch.stack(reps)\n",
    "\n",
    "    def evaluate(\n",
    "        self,\n",
    "        x0_sentences,\n",
    "        x1_sentences,\n",
    "        layers=[5, 10, 20, 30],\n",
    "        positions=[-1],\n",
    "        verbose=True,\n",
    "    ):\n",
    "        results = {}\n",
    "        for layer in layers:\n",
    "            for pos in positions:\n",
    "                if verbose:\n",
    "                    print(f\"Extracting layer {layer}, pos {pos}...\")\n",
    "                x0_repr = self.extract_representations(x0_sentences, layer, pos)\n",
    "                x1_repr = self.extract_representations(x1_sentences, layer, pos)\n",
    "\n",
    "                X = torch.cat([x0_repr, x1_repr]).numpy()\n",
    "                y = np.array([0] * len(x0_repr) + [1] * len(x1_repr))\n",
    "\n",
    "                clf = LogisticRegression().fit(X, y)\n",
    "                acc = clf.score(X, y)\n",
    "                results[(layer, pos)] = acc\n",
    "\n",
    "                if verbose:\n",
    "                    print(f\"✅ Layer {layer:2d}, Pos {pos:2d} → Accuracy: {acc:.3f}\")\n",
    "        return results"
   ]
  }
 ],
 "metadata": {
  "kernelspec": {
   "display_name": "Python 3",
   "language": "python",
   "name": "python3"
  },
  "language_info": {
   "codemirror_mode": {
    "name": "ipython",
    "version": 3
   },
   "file_extension": ".py",
   "mimetype": "text/x-python",
   "name": "python",
   "nbconvert_exporter": "python",
   "pygments_lexer": "ipython3",
   "version": "3.12.8"
  }
 },
 "nbformat": 4,
 "nbformat_minor": 5
}
